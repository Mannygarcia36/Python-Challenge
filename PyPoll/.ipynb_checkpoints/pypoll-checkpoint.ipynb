{
 "cells": [
  {
   "cell_type": "code",
   "execution_count": 1,
   "id": "b18279eb",
   "metadata": {},
   "outputs": [
    {
     "name": "stdout",
     "output_type": "stream",
     "text": [
      "Election Results\n",
      "------------------------------\n",
      "Total votes: 369,711\n",
      "------------------------------\n",
      "Charles Casper Stockham: 23.049 % (85,213) \n",
      "Diana DeGette: 73.812 % (272,892) \n",
      "Raymon Anthony Doane: 3.139 % (11,606) \n",
      "------------------------------\n",
      "Winner:  Diana DeGette\n",
      "------------------------------\n"
     ]
    }
   ],
   "source": [
    "import os\n",
    "import csv\n",
    "\n",
    "\n",
    "\n",
    "with open(os.path.join(\"Resources\",\"election_data.csv\"), \"r\") as in_file:\n",
    "    in_csv = csv.reader(in_file)\n",
    "    header = next(in_csv) \n",
    "    data = list(in_csv)\n",
    "\n",
    "    count = 0\n",
    "    for row in data:\n",
    "        count += 1\n",
    "    \n",
    "\n",
    "    print('Election Results')\n",
    "\n",
    "    print(\"-\" * 30)\n",
    "    print(f\"Total votes: {count:,}\"  )\n",
    "    print(\"-\" * 30)\n",
    "\n",
    "\n",
    "\n",
    "    candidate_names = []\n",
    "\n",
    "    for row in data:\n",
    "        if row[2].strip() not in candidate_names:\n",
    "\n",
    "            candidate_names.append(row[2])\n",
    "        else:\n",
    "            continue\n",
    "\n",
    "    voters = {}\n",
    "    for cand in candidate_names:\n",
    "        total_vote = 0\n",
    "        for row in data:\n",
    "            if row[2] == cand:\n",
    "                total_vote +=1\n",
    "                \n",
    "        voters[cand]= total_vote\n",
    "                \n",
    "\n",
    "        print(f\"{cand}: {round((total_vote/count)*100, 3)} % ({total_vote:,}) \")\n",
    "    winner_vote = max(voters.values()) \n",
    "    winner = list(voters.keys())[list(voters.values()).index(winner_vote)]\n",
    "\n",
    "\n",
    "    print(\"-\" * 30)\n",
    "\n",
    "    print(f\"Winner:  {winner}\")\n",
    "\n",
    "    print(\"-\" * 30)\n"
   ]
  },
  {
   "cell_type": "code",
   "execution_count": null,
   "id": "94f2caec",
   "metadata": {},
   "outputs": [],
   "source": []
  },
  {
   "cell_type": "code",
   "execution_count": null,
   "id": "7dbf1298",
   "metadata": {},
   "outputs": [],
   "source": []
  }
 ],
 "metadata": {
  "kernelspec": {
   "display_name": "Python 3 (ipykernel)",
   "language": "python",
   "name": "python3"
  },
  "language_info": {
   "codemirror_mode": {
    "name": "ipython",
    "version": 3
   },
   "file_extension": ".py",
   "mimetype": "text/x-python",
   "name": "python",
   "nbconvert_exporter": "python",
   "pygments_lexer": "ipython3",
   "version": "3.9.13"
  }
 },
 "nbformat": 4,
 "nbformat_minor": 5
}
